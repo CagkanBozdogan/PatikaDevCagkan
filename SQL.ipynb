{
 "cells": [
  {
   "cell_type": "markdown",
   "metadata": {},
   "source": [
    "## **SQL ÖDEVLERİ**"
   ]
  },
  {
   "cell_type": "markdown",
   "metadata": {},
   "source": [
    "### *Ödev 1*\n",
    "\n",
    "- *film tablosunda bulunan title ve description sütunlarındaki verileri sıralayınız.*\n",
    "\n",
    "SELECT title,description\n",
    "FROM film;\n",
    "\n",
    "- *film tablosunda bulunan tüm sütunlardaki verileri film uzunluğu (length) 60 dan büyük VE 75 ten küçük olma koşullarıyla sıralayınız.*\n",
    "\n",
    "SELECT *\n",
    "FROM film \n",
    "WHERE length>60 AND length<75;\n",
    "\n",
    "- *film tablosunda bulunan tüm sütunlardaki verileri rental_rate 0.99 VE replacement_cost 12.99 VEYA 28.99 olma koşullarıyla sıralayınız.*\n",
    "\n",
    "SELECT *\n",
    "FROM film \n",
    "WHERE rental_rate=0.99 AND (replacement_cost=12.99 OR replacement_cost=28.99);\n",
    "\n",
    "- *customer tablosunda bulunan first_name sütunundaki değeri 'Mary' olan müşterinin last_name sütunundaki değeri nedir?*\n",
    "***Smith***\n",
    "\n",
    "SELECT last_name\n",
    "FROM customer\n",
    "where first_name='Mary'\n",
    "\n",
    "- *film tablosundaki uzunluğu(length) 50 ten büyük OLMAYIP aynı zamanda rental_rate değeri 2.99 veya 4.99 OLMAYAN verileri sıralayınız.*\n",
    "\n",
    "SELECT *\n",
    "FROM film\n",
    "WHERE length<=50 AND (rental_rate!=2.99 AND rental_rate!=4.99);\n"
   ]
  },
  {
   "cell_type": "markdown",
   "metadata": {},
   "source": [
    "### Ödev 2\n",
    "\n",
    "- *film tablosunda bulunan tüm sütunlardaki verileri replacement cost değeri 12.99 dan büyük eşit ve 16.99 küçük olma koşuluyla sıralayınız ( BETWEEN - AND yapısını kullanınız.)*\n",
    "\n",
    "SELECT *\n",
    "FROM film\n",
    "where replacement_cost between 12.99 and 16.99;\n",
    "\n",
    "- *.actor tablosunda bulunan first_name ve last_name sütunlardaki verileri first_name 'Penelope' veya 'Nick' veya 'Ed' değerleri olması koşuluyla sıralayınız. ( IN operatörünü kullanınız.)*\n",
    "\n",
    "SELECT first_name,last_name\n",
    "FROM actor\n",
    "where first_name in ('Penelope','Nick','Ed');\n",
    "\n",
    "- *film tablosunda bulunan tüm sütunlardaki verileri rental_rate 0.99, 2.99, 4.99 VE replacement_cost 12.99, 15.99, 28.99 olma koşullarıyla sıralayınız. ( IN operatörünü kullanınız.)*\n",
    "\n",
    "SELECT *\n",
    "FROM film\n",
    "where rental_rate in (0.99,2.99,4.99) and replacement_cost in (12.99,15.99,28.99);"
   ]
  },
  {
   "cell_type": "markdown",
   "metadata": {},
   "source": [
    "### Ödev 3\n",
    "\n",
    "- *country tablosunda bulunan country sütunundaki ülke isimlerinden 'A' karakteri ile başlayıp 'a' karakteri ile sonlananları sıralayınız.*\n",
    "\n",
    "select country\n",
    "from country\n",
    "where country like 'A%a';\n",
    "\n",
    "- *country tablosunda bulunan country sütunundaki ülke isimlerinden en az 6 karakterden oluşan ve sonu 'n' karakteri ile sonlananları sıralayınız.*\n",
    "\n",
    "select country\n",
    "from country\n",
    "where country like '%_____n';\n",
    "\n",
    "- *film tablosunda bulunan title sütunundaki film isimlerinden en az 4 adet büyük ya da küçük harf farketmesizin 'T' karakteri içeren film isimlerini sıralayınız.*\n",
    "\n",
    "select title\n",
    "from film\n",
    "where title ilike '%t%t%t%t%';\n",
    "\n",
    "- *film tablosunda bulunan tüm sütunlardaki verilerden title 'C' karakteri ile başlayan ve uzunluğu (length) 90 dan büyük olan ve rental_rate 2.99 olan verileri sıralayınız.*\n",
    "\n",
    "select *\n",
    "from film\n",
    "where title like 'C%' and length>90 and rental_rate=2.99;\n"
   ]
  }
 ],
 "metadata": {
  "interpreter": {
   "hash": "75a409abef6bcebbb9c2cbf523bdf517287b7882f145def0f2e17edffa189438"
  },
  "kernelspec": {
   "display_name": "Python 3.10.4 64-bit",
   "language": "python",
   "name": "python3"
  },
  "language_info": {
   "codemirror_mode": {
    "name": "ipython",
    "version": 3
   },
   "file_extension": ".py",
   "mimetype": "text/x-python",
   "name": "python",
   "nbconvert_exporter": "python",
   "pygments_lexer": "ipython3",
   "version": "3.10.4"
  },
  "orig_nbformat": 4
 },
 "nbformat": 4,
 "nbformat_minor": 2
}
