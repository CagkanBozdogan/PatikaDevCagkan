{
 "cells": [
  {
   "cell_type": "markdown",
   "metadata": {},
   "source": [
    "## **SQL ÖDEVLERİ**"
   ]
  },
  {
   "cell_type": "markdown",
   "metadata": {},
   "source": [
    "### *Ödev 1*"
   ]
  },
  {
   "cell_type": "markdown",
   "metadata": {},
   "source": [
    "- *film tablosunda bulunan title ve description sütunlarındaki verileri sıralayınız.*\n",
    "\n",
    "SELECT title,description\n",
    "FROM film;\n",
    "\n",
    "- *film tablosunda bulunan tüm sütunlardaki verileri film uzunluğu (length) 60 dan büyük VE 75 ten küçük olma koşullarıyla sıralayınız.*\n",
    "\n",
    "SELECT *\n",
    "FROM film \n",
    "WHERE length>60 AND length<75;\n",
    "\n",
    "- *film tablosunda bulunan tüm sütunlardaki verileri rental_rate 0.99 VE replacement_cost 12.99 VEYA 28.99 olma koşullarıyla sıralayınız.*\n",
    "\n",
    "SELECT *\n",
    "FROM film \n",
    "WHERE rental_rate=0.99 AND (replacement_cost=12.99 OR replacement_cost=28.99);\n",
    "\n",
    "- *customer tablosunda bulunan first_name sütunundaki değeri 'Mary' olan müşterinin last_name sütunundaki değeri nedir?*\n",
    "***Smith***\n",
    "\n",
    "SELECT last_name\n",
    "FROM customer\n",
    "where first_name='Mary'\n",
    "\n",
    "- *film tablosundaki uzunluğu(length) 50 ten büyük OLMAYIP aynı zamanda rental_rate değeri 2.99 veya 4.99 OLMAYAN verileri sıralayınız.*\n",
    "\n",
    "SELECT *\n",
    "FROM film\n",
    "WHERE length<=50 AND (rental_rate!=2.99 AND rental_rate!=4.99);\n"
   ]
  },
  {
   "cell_type": "markdown",
   "metadata": {},
   "source": []
  }
 ],
 "metadata": {
  "interpreter": {
   "hash": "75a409abef6bcebbb9c2cbf523bdf517287b7882f145def0f2e17edffa189438"
  },
  "kernelspec": {
   "display_name": "Python 3.10.4 64-bit",
   "language": "python",
   "name": "python3"
  },
  "language_info": {
   "codemirror_mode": {
    "name": "ipython",
    "version": 3
   },
   "file_extension": ".py",
   "mimetype": "text/x-python",
   "name": "python",
   "nbconvert_exporter": "python",
   "pygments_lexer": "ipython3",
   "version": "3.10.4"
  },
  "orig_nbformat": 4
 },
 "nbformat": 4,
 "nbformat_minor": 2
}
