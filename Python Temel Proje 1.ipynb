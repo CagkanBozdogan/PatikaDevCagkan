{
 "cells": [
  {
   "cell_type": "markdown",
   "metadata": {},
   "source": [
    "# Python Temel Proje 1"
   ]
  },
  {
   "cell_type": "markdown",
   "metadata": {},
   "source": [
    "**1- Bir listeyi düzleştiren (flatten) fonksiyon yazın. Elemanları birden çok katmanlı listelerden ([[3],2] gibi) oluşabileceği gibi, non-scalar verilerden de oluşabilir. Örnek olarak:**\n",
    "\n",
    "input: [[1,'a',['cat'],2],[[[3]],'dog'],4,5]\n",
    "\n",
    "output: [1,'a','cat',2,3,'dog',4,5]"
   ]
  },
  {
   "cell_type": "code",
   "execution_count": 47,
   "metadata": {},
   "outputs": [
    {
     "name": "stdout",
     "output_type": "stream",
     "text": [
      "[(3, 5), {3, 4}, 1, 'a', 'cat', 2, 3, 'dog', 4, 5]\n"
     ]
    }
   ],
   "source": [
    "flatted=[]\n",
    "def flattener(flatMe): #Tuple ve dict harici flatten function\n",
    "    if type(flatMe)==list:\n",
    "        for i in flatMe:\n",
    "            if type(i)==list:\n",
    "                for k in i:\n",
    "                    flattener(k)\n",
    "            else:\n",
    "                flatted.append(i)\n",
    "        return flatted\n",
    "    else:\n",
    "        flatted.append(flatMe)\n",
    "        return flatted\n",
    "\n",
    "input=[[(3,5),{3,4},1,'a',['cat'],2],[[[3]],'dog'],4,5]\n",
    "print(flattener(input))\n"
   ]
  },
  {
   "cell_type": "markdown",
   "metadata": {},
   "source": [
    "**2- Verilen listenin içindeki elemanları tersine döndüren bir fonksiyon yazın. Eğer listenin içindeki elemanlar da liste içeriyorsa onların elemanlarını da tersine döndürün. Örnek olarak:**\n",
    "\n",
    "input: [[1, 2], [3, 4], [5, 6, 7]]\n",
    "\n",
    "output: [[[7, 6, 5], [4, 3], [2, 1]]"
   ]
  },
  {
   "cell_type": "code",
   "execution_count": 15,
   "metadata": {},
   "outputs": [
    {
     "name": "stdout",
     "output_type": "stream",
     "text": [
      "[[1, 2], [3, 4], [5, [6, 7]]]\n",
      "[[[7, 6], 5], [4, 3], [2, 1]]\n"
     ]
    }
   ],
   "source": [
    "def reverser(reverseMe): #reverser function\n",
    "    for i in range(len(reverseMe)):\n",
    "        if type(reverseMe[i])==list:\n",
    "            reverseMe[i]=list(reversed(reverseMe[i]))\n",
    "            reverser(reverseMe[i])\n",
    "    reverseMe=list(reversed(reverseMe))\n",
    "    return reverseMe\n",
    "\n",
    "\n",
    "input=[[1, 2], [3, 4], [5, [6, 7]]]\n",
    "print(input)\n",
    "print(reverser(input))"
   ]
  }
 ],
 "metadata": {
  "interpreter": {
   "hash": "75a409abef6bcebbb9c2cbf523bdf517287b7882f145def0f2e17edffa189438"
  },
  "kernelspec": {
   "display_name": "Python 3.10.4 64-bit",
   "language": "python",
   "name": "python3"
  },
  "language_info": {
   "codemirror_mode": {
    "name": "ipython",
    "version": 3
   },
   "file_extension": ".py",
   "mimetype": "text/x-python",
   "name": "python",
   "nbconvert_exporter": "python",
   "pygments_lexer": "ipython3",
   "version": "3.10.4"
  },
  "orig_nbformat": 4
 },
 "nbformat": 4,
 "nbformat_minor": 2
}
